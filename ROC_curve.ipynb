{
 "cells": [
  {
   "cell_type": "code",
   "execution_count": 8,
   "metadata": {},
   "outputs": [
    {
     "name": "stdout",
     "output_type": "stream",
     "text": [
      "[0.0, 0.0021231422505307855, 0.010592957453669827, 0.01992332460831545, 0.01992332460831545, 0.01992332460831545, 0.01992332460831545, 0.28310833263762364, 0.6226572181107144, 0.9985483403640936]\n",
      "[0.0, 0.04678650523310063, 0.4008768675592729, 0.8928119343923195, 0.8928119343923195, 0.8928119343923195, 0.8928119343923195, 0.9159736040380875, 0.9466549750992097, 0.9983305790698459]\n"
     ]
    },
    {
     "data": {
      "image/png": "[encoded data removed]",
      "text/plain": [
       "<Figure size 432x288 with 1 Axes>"
      ]
     },
     "metadata": {
      "needs_background": "light"
     },
     "output_type": "display_data"
    }
   ],
   "source": [
    "from PIL import Image\n",
    "import numpy as np\n",
    "import matplotlib.pyplot as plt\n",
    "import sys\n",
    "import warnings\n",
    "\n",
    "if sys.version_info[0] < 3:\n",
    "    warnings.warn(\"This script should run using Python 3, which is currently not the case. The plot might not generate correctly.\")\n",
    "\n",
    "path = '../ROC_dataset/'\n",
    "\n",
    "\n",
    "def my_obstacle_filter(im, param):\n",
    "    \"\"\" An example of a filter that can be used to generate ROC curves.\n",
    "    This filter is a simple color filter around orange. Replace this with your own filter.\n",
    "\n",
    "    :param im: image to be filtered\n",
    "    :param param: filter parameter that will be varied between 0.0 and 1.0\n",
    "    :return: filtered image where detected objects have a value of [255,255,255]\n",
    "    \"\"\"\n",
    "    # Set up the filter based on the input parameter\n",
    "    filter_width = np.array([0, 0, 0]) + param*255\n",
    "    color_orange = np.array([255, 70, 0])\n",
    "\n",
    "    w, h = im.size\n",
    "\n",
    "    # Load pixel data\n",
    "    im_pixels = np.asarray(im.getdata(), dtype=int)\n",
    "\n",
    "    # Create mask for detected obstacles\n",
    "    mask = np.all(im_pixels > color_orange - filter_width, axis=1) * np.all(im_pixels < color_orange + filter_width,\n",
    "                                                                            axis=1)\n",
    "    # Create image where obstacles are white\n",
    "    filtered_im = Image.new('RGB', (w, h), color=(0, 0, 0))\n",
    "    filtered_im_pixels = np.asarray(filtered_im.getdata())\n",
    "    filtered_im_pixels[mask] = [255, 255, 255]\n",
    "    filtered_im.putdata([tuple(pix) for pix in filtered_im_pixels])\n",
    "\n",
    "    return filtered_im\n",
    "\n",
    "\n",
    "def generate_ROC_plot():\n",
    "    \"\"\" Generates a simple ROC plot\"\"\"\n",
    "    plot_data = []\n",
    "    n_images = 54    # Number of images in folder\n",
    "    for param in np.linspace(0.0, 1.0, 10):\n",
    "        # Initialize totals\n",
    "        true_positives = 0\n",
    "        false_positives = 0\n",
    "        ground_truth_positives = 0\n",
    "        ground_truth_negatives = 0\n",
    "\n",
    "        for i in range(1, n_images + 1):\n",
    "            # Set image paths\n",
    "            # oringinal here is the addition orange-labeled image between original image and predicted label\n",
    "            #change the path for other folders containing images from algorithm with diferrent parameters\n",
    "            original_path = path + 'original/' + str(i) + '_original.png' \n",
    "            ground_truth_path = path + 'white/' + str(i) + '_mask.png'\n",
    "\n",
    "            # Analyze ground truth image\n",
    "            ground_truth_im = Image.open(ground_truth_path, 'r')\n",
    "            ground_truth_pixels = np.asarray(ground_truth_im.getdata())\n",
    "            ground_truth_obstacles = np.all(ground_truth_pixels == [255, 255, 255], axis=1)\n",
    "\n",
    "            # Analyze original image\n",
    "            im = Image.open(original_path, 'r')\n",
    "            filtered_im = my_obstacle_filter(im, param)\n",
    "            filtered_im_pixels = np.asarray(filtered_im.getdata())\n",
    "            filtered_im_obstacles = np.all(filtered_im_pixels == [255, 255, 255], axis=1)\n",
    "\n",
    "            # Update totals of positives/negatives\n",
    "            true_positives += np.sum((filtered_im_obstacles == True) & (ground_truth_obstacles == True))\n",
    "            false_positives += np.sum((filtered_im_obstacles == True) & (ground_truth_obstacles == False))\n",
    "\n",
    "            ground_truth_positives += np.sum((ground_truth_obstacles == True))\n",
    "            ground_truth_negatives += np.sum((ground_truth_obstacles == False))\n",
    "\n",
    "        # Calculate rates\n",
    "        false_positive_rate = false_positives / ground_truth_negatives\n",
    "        true_positive_rate = true_positives / ground_truth_positives\n",
    "\n",
    "        # Add datapoint to plot_data\n",
    "        plot_data.append((false_positive_rate, true_positive_rate))\n",
    "\n",
    "    # Create x and y data from plot_data\n",
    "    x = [item[0] for item in plot_data]\n",
    "    y = [item[1] for item in plot_data]\n",
    "    print(x) #save the x,y data for each paramter setting, plot them in one comparison figure with matlab later\n",
    "    print(y)\n",
    "\n",
    "    # Plot    \n",
    "    plt.plot(x, y)\n",
    "    plt.xlabel(\"False Positive Rate\")\n",
    "    plt.ylabel(\"True Positive Rate\")\n",
    "    plt.xlim(0, 1)\n",
    "    plt.ylim(0, 1)\n",
    "    plt.grid()\n",
    "    plt.savefig('B32E300.png') #one plot for one parameter,save x,y data and plot curves for different kinds of paramter settings in matlab\n",
    "    plt.show()\n",
    "\n",
    "\n",
    "# Main script\n",
    "generate_ROC_plot()\n"
   ]
  },
  {
   "cell_type": "code",
   "execution_count": 7,
   "metadata": {},
   "outputs": [
    {
     "data": {
      "text/plain": [
       "<Figure size 432x288 with 0 Axes>"
      ]
     },
     "metadata": {},
     "output_type": "display_data"
    }
   ],
   "source": [
    "plt.savefig('B6E5.png')"
   ]
  },
  {
   "cell_type": "code",
   "execution_count": null,
   "metadata": {},
   "outputs": [],
   "source": []
  }
 ],
 "metadata": {
  "kernelspec": {
   "display_name": "Python 3",
   "language": "python",
   "name": "python3"
  },
  "language_info": {
   "codemirror_mode": {
    "name": "ipython",
    "version": 3
   },
   "file_extension": ".py",
   "mimetype": "text/x-python",
   "name": "python",
   "nbconvert_exporter": "python",
   "pygments_lexer": "ipython3",
   "version": "3.7.6"
  }
 },
 "nbformat": 4,
 "nbformat_minor": 4
}
