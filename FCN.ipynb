{
 "cells": [
  {
   "cell_type": "code",
   "execution_count": 31,
   "metadata": {
    "id": "zwAwo4IV6Qdz"
   },
   "outputs": [],
   "source": [
    "# !cat /usr/local/cuda/version.txt\n",
    "# !apt install libnvrtc9.1\n",
    "# !pip install mxnet-cu100"
   ]
  },
  {
   "cell_type": "code",
   "execution_count": 32,
   "metadata": {
    "id": "109C0WMtAe6D"
   },
   "outputs": [],
   "source": [
    "import os\n",
    "#from google.colab import drive\n",
    "import torchvision.datasets as datasets\n",
    "import torchvision\n",
    "import torch\n",
    "import numpy as np\n",
    "import cv2\n",
    "#import tensorflow as tf\n",
    "import matplotlib.pyplot as plt\n",
    "from PIL import Image\n",
    "from torchvision import transforms as tfs\n",
    "import torchvision.models as models\n",
    "from torch.utils.data.dataset import Dataset \n",
    "from torch.utils.data import DataLoader\n",
    "import torch.nn as nn\n",
    "import torch.nn.functional as F\n",
    "from torch.autograd import Variable\n",
    "from mxnet import  image\n",
    "import torchvision.transforms.functional as TF\n",
    "import mxnet\n",
    "import datetime\n",
    "from  datetime import datetime\n",
    "from torch.autograd import Variable"
   ]
  },
  {
   "cell_type": "code",
   "execution_count": 33,
   "metadata": {
    "id": "SEeQmp2uIelV"
   },
   "outputs": [],
   "source": [
    "path='.'\n",
    "def read_images(root=path, train=True):\n",
    "    txt_fname = root + '/Gatedetection/VOC/ImageSets/Segmentation/' + ('train.txt' if train else 'val.txt')\n",
    "    with open(txt_fname, 'r') as f:\n",
    "        images = f.read().split()\n",
    "    data = [os.path.join(root, 'Gatedetection/VOC/JPEGImages', i+'.png') for i in images]\n",
    "    label = [os.path.join(root, 'Gatedetection/VOC/SegmentationClass', i+'.png') for i in images]\n",
    "    return data, label\n"
   ]
  },
  {
   "cell_type": "code",
   "execution_count": 34,
   "metadata": {
    "colab": {
     "base_uri": "https://localhost:8080/",
     "height": 35
    },
    "id": "g8_Vbi5YVjox",
    "outputId": "2ad99d80-5059-4bc3-e5bd-2460bc494e70"
   },
   "outputs": [
    {
     "data": {
      "text/plain": [
       "0.0"
      ]
     },
     "execution_count": 34,
     "metadata": {},
     "output_type": "execute_result"
    }
   ],
   "source": [
    "classes = ['background','gate']\n",
    "\n",
    "# RGB value for each class\n",
    "colormap = [[0,0,0],[255,255,255]]\n",
    "cm2lbl = np.zeros(256**3) # each pixel is an array belong to [0,0,0]~[255,255,255]\n",
    "for i,cm in enumerate(colormap):\n",
    "    cm2lbl[(cm[0]*256+cm[1])*256+cm[2]] = i # set an index   \n",
    "cm2lbl[128]       "
   ]
  },
  {
   "cell_type": "code",
   "execution_count": 35,
   "metadata": {
    "id": "_AKReUkiacrf"
   },
   "outputs": [],
   "source": [
    "def image2label(im):\n",
    "    data = np.array(im, dtype='int32')\n",
    "    idx = (data[:, :, 0] * 256 + data[:, :, 1]) * 256 + data[:, :, 2]\n",
    "    return np.array(cm2lbl[idx], dtype='int64') # get label matrix according to index"
   ]
  },
  {
   "cell_type": "markdown",
   "metadata": {
    "id": "WeuHEBo7V4Sy"
   },
   "source": [
    "*data pre-processing* it need a batch to compute, and the size of pictures should be same. Since there is no way to resize the label effectively and make it match at the pixel level, in order to make the size of the image being same, crop is used here to solve this problem"
   ]
  },
  {
   "cell_type": "code",
   "execution_count": 36,
   "metadata": {
    "id": "uRUcqN6Zixqo"
   },
   "outputs": [],
   "source": [
    "def rand_crop(data, label, height, width): #crop the image into the same size. crop the same aera in image and label\n",
    "    '''\n",
    "    data is PIL.Image object\n",
    "    label is PIL.Image object\n",
    "    '''\n",
    "    data=mxnet.nd.array(data)\n",
    "    label=mxnet.nd.array(label)\n",
    "    data, rect =image.random_crop(data,(width, height))\n",
    "    label = image.fixed_crop(label,*rect)\n",
    "    data=data.asnumpy()\n",
    "    label=label.asnumpy()\n",
    "    return data, label"
   ]
  },
  {
   "cell_type": "code",
   "execution_count": 37,
   "metadata": {},
   "outputs": [],
   "source": [
    "def img_transforms(im, label, crop_size): #data pre-processing.\n",
    "    im, label=rand_crop(im, label, *crop_size)\n",
    "    im_tfs = tfs.Compose([\n",
    "        tfs.ToTensor(),\n",
    "        tfs.Normalize([0.485, 0.456, 0.406], [0.229, 0.224, 0.225]) #standardize the rgb values with mean and variance of ImageNet\n",
    "    ])\n",
    "    \n",
    "    im = im_tfs(im)\n",
    "    label = image2label(label)\n",
    "    return im, label"
   ]
  },
  {
   "cell_type": "code",
   "execution_count": 38,
   "metadata": {
    "id": "I7iGhruCTPEo"
   },
   "outputs": [],
   "source": [
    "class GateDataset(torch.utils.data.Dataset):#Define a GataDataset derived from`torch.utils.data.Dataset` to construct self-defined set\n",
    "    '''\n",
    "    voc dataset\n",
    "    '''\n",
    "    def __init__(self, train, crop_size, transforms):\n",
    "        self.crop_size = crop_size\n",
    "        self.transforms = transforms\n",
    "        data_list, label_list = read_images(train=train)\n",
    "        self.data_list = self._filter(data_list)\n",
    "        self.label_list = self._filter(label_list)\n",
    "        print('Read ' + str(len(self.data_list)) + ' images')\n",
    "        \n",
    "        \n",
    "    def _filter(self, images): # filter the pictures whose sizes are smaller than the crop size\n",
    "        return [im for im in images if (Image.open(im).size[1] >= self.crop_size[0] and \n",
    "                                        Image.open(im).size[0] >= self.crop_size[1])]\n",
    "        \n",
    "    def __getitem__(self, idx):\n",
    "        img = self.data_list[idx]\n",
    "        label = self.label_list[idx]\n",
    "        img = Image.open(img)\n",
    "        label = Image.open(label).convert('RGB') \n",
    "        img, label = self.transforms(img, label, self.crop_size)\n",
    "        return img, label\n",
    "    \n",
    "    def __len__(self):\n",
    "        return len(self.data_list)"
   ]
  },
  {
   "cell_type": "code",
   "execution_count": 39,
   "metadata": {
    "colab": {
     "base_uri": "https://localhost:8080/",
     "height": 53
    },
    "id": "Q4a0qzsGUNub",
    "outputId": "d9445001-423e-406b-9ce2-0395928349b3"
   },
   "outputs": [
    {
     "name": "stdout",
     "output_type": "stream",
     "text": [
      "Read 220 images\n",
      "Read 54 images\n"
     ]
    }
   ],
   "source": [
    "# instantiate dataset\n",
    "input_shape = (360, 360)\n",
    "voc_train = GateDataset(True, input_shape, img_transforms)\n",
    "voc_test = GateDataset(False, input_shape, img_transforms)\n",
    "\n",
    "train_data = DataLoader(voc_train, batch_size=8, shuffle=True, num_workers=0)#training batch size, change it for parameter comparison\n",
    "valid_data = DataLoader(voc_test, batch_size=4, num_workers=0)#validtaion batch size,change it for parameter comparison"
   ]
  },
  {
   "cell_type": "code",
   "execution_count": 40,
   "metadata": {
    "id": "WTiy4Ftd4iH7"
   },
   "outputs": [],
   "source": [
    "for data in train_data:\n",
    "  with torch.no_grad():\n",
    "    im = Variable(data[0].cuda())\n",
    "    label = Variable(data[1].cuda())"
   ]
  },
  {
   "cell_type": "code",
   "execution_count": 41,
   "metadata": {
    "colab": {
     "base_uri": "https://localhost:8080/",
     "height": 35
    },
    "id": "AvSnjvoE4sSs",
    "outputId": "c7069249-2c3f-4aa6-ae43-c2dba840e6c3"
   },
   "outputs": [
    {
     "data": {
      "text/plain": [
       "(360, 360)"
      ]
     },
     "execution_count": 41,
     "metadata": {},
     "output_type": "execute_result"
    }
   ],
   "source": [
    "voc_train[0][1].shape"
   ]
  },
  {
   "cell_type": "code",
   "execution_count": 42,
   "metadata": {
    "id": "xaXG1SflmetE"
   },
   "outputs": [],
   "source": [
    "def bilinear_kernel(in_channels, out_channels, kernel_size):#bilinear kernel is utilized to calcute the weight of upsample_\n",
    "    '''\n",
    "    return a bilinear filter tensor\n",
    "    '''\n",
    "    factor = (kernel_size + 1) // 2\n",
    "    if kernel_size % 2 == 1:\n",
    "        center = factor - 1\n",
    "    else:\n",
    "        center = factor - 0.5\n",
    "    og = np.ogrid[:kernel_size, :kernel_size]\n",
    "    filt = (1 - abs(og[0] - center) / factor) * (1 - abs(og[1] - center) / factor)\n",
    "    #print(1 - abs(og[0] - center) / factor)\n",
    "    #print(1 - abs(og[1] - center) / factor)\n",
    "    weight = np.zeros((in_channels, out_channels, kernel_size, kernel_size), dtype='float32')\n",
    "    weight[range(in_channels), range(out_channels), :, :] = filt\n",
    "    return torch.from_numpy(weight)"
   ]
  },
  {
   "cell_type": "code",
   "execution_count": 43,
   "metadata": {
    "id": "YS9y9_7SSASq"
   },
   "outputs": [],
   "source": [
    "# define transposed convolution,upsample_\n",
    "conv_trans = nn.ConvTranspose2d(in_channels=3,out_channels=3,kernel_size=4,stride=2,padding=1)\n",
    "# define it as bilinear kernel\n",
    "conv_trans.weight.data = bilinear_kernel(3, 3, 4)"
   ]
  },
  {
   "cell_type": "code",
   "execution_count": 44,
   "metadata": {
    "id": "MT4Bvt3ThYgj"
   },
   "outputs": [],
   "source": [
    "# use pre-trained resnet 34\n",
    "#from  mxnet.gluon.model_zoo import vision as models\n",
    "net = models.resnet34(pretrained=True)\n",
    "num_classes = len(classes)"
   ]
  },
  {
   "cell_type": "code",
   "execution_count": 45,
   "metadata": {
    "id": "3HHf2an3O9q6"
   },
   "outputs": [],
   "source": [
    "#print(net)"
   ]
  },
  {
   "cell_type": "code",
   "execution_count": 46,
   "metadata": {
    "id": "pH5HG2uG4XWi"
   },
   "outputs": [
    {
     "data": {
      "text/plain": [
       "Linear(in_features=512, out_features=1000, bias=True)"
      ]
     },
     "execution_count": 46,
     "metadata": {},
     "output_type": "execute_result"
    }
   ],
   "source": [
    "list(net.children())[-1]"
   ]
  },
  {
   "cell_type": "code",
   "execution_count": 47,
   "metadata": {
    "id": "gqnm_3M0DU8D"
   },
   "outputs": [],
   "source": [
    "class fcn(nn.Module):\n",
    "    def __init__(self, num_classes):\n",
    "        super(fcn, self).__init__()\n",
    "\n",
    "        self.stage1 = nn.Sequential(*list(net.children())[:-4]) #remove the last three layers: avgpool and fully connected layers，use list(pretrained_net.children())[:-k] to directly reach the last k-th layer\n",
    "        self.stage2 = list(net.children())[-4] # second part\n",
    "        self.stage3 = list(net.children())[-3] # third part\n",
    "        \n",
    "        self.scores1 = nn.Conv2d(512, num_classes, 1)\n",
    "        self.scores2 = nn.Conv2d(256, num_classes, 2, padding=1)\n",
    "        self.scores3 = nn.Conv2d(128, num_classes, 2, padding=2)\n",
    "        \n",
    "        self.upsample_8x = nn.ConvTranspose2d(num_classes, num_classes, 16, 8, 16, bias=False)#enlarge the feature map eight times\n",
    "        self.upsample_8x.weight.data = bilinear_kernel(num_classes, num_classes, 16) # use bilinear kernel\n",
    "        \n",
    "        self.upsample_2x = nn.ConvTranspose2d(num_classes, num_classes, 4, 2, 1, bias=False) #enlarge the feature map twice  \n",
    "        self.upsample_2x.weight.data = bilinear_kernel(num_classes, num_classes, 4) # use bilinear kernel\n",
    "\n",
    "        \n",
    "    def forward(self, x):\n",
    "        \n",
    "        x = self.stage1(x)\n",
    "        s1 = x # 1/8\n",
    "        x = self.stage2(x)\n",
    "        s2 = x # 1/16\n",
    "        \n",
    "        x = self.stage3(x)\n",
    "        s3 = x # 1/32\n",
    "        \n",
    "        s3 = self.scores1(s3)\n",
    "        s3 = self.upsample_2x(s3)\n",
    "        s2 = self.scores2(s2)\n",
    "        s2 = s2 + s3#23   24\n",
    "        \n",
    "        s1 = self.scores3(s1)\n",
    "        s2 = self.upsample_2x(s2)\n",
    "        s = s1 + s2#45  48\n",
    "\n",
    "        s = self.upsample_8x(s)\n",
    "        return s"
   ]
  },
  {
   "cell_type": "code",
   "execution_count": 48,
   "metadata": {
    "id": "0UDchv0RE9-N"
   },
   "outputs": [],
   "source": [
    "#Define some common metrics for semantic segmentation，such as overal accuracy，mean IU \n",
    "def _fast_hist(label_true, label_pred, n_class):\n",
    "    mask = (label_true >= 0) & (label_true < n_class)\n",
    "    hist = np.bincount(\n",
    "        n_class * label_true[mask].astype(int) +\n",
    "        label_pred[mask], minlength=n_class ** 2).reshape(n_class, n_class)\n",
    "    return hist\n",
    "\n",
    "\n",
    "def label_accuracy_score(label_trues, label_preds, n_class):\n",
    "    \"\"\"Returns accuracy score evaluation result.\n",
    "      - overall accuracy\n",
    "      - mean accuracy\n",
    "      - mean IU\n",
    "      - fwavacc\n",
    "    \"\"\"\n",
    "    hist = np.zeros((n_class, n_class))\n",
    "    for lt, lp in zip(label_trues, label_preds):\n",
    "        hist += _fast_hist(lt.flatten(), lp.flatten(), n_class)\n",
    "    acc = np.diag(hist).sum() / hist.sum()\n",
    "    acc_cls = np.diag(hist) / hist.sum(axis=1)\n",
    "    acc_cls = np.nanmean(acc_cls)\n",
    "    iu = np.diag(hist) / (hist.sum(axis=1) + hist.sum(axis=0) - np.diag(hist))\n",
    "    mean_iu = np.nanmean(iu)\n",
    "    freq = hist.sum(axis=1) / hist.sum()\n",
    "    fwavacc = (freq[freq > 0] * iu[freq > 0]).sum()\n",
    "    return acc, acc_cls, mean_iu, fwavacc"
   ]
  },
  {
   "cell_type": "code",
   "execution_count": 49,
   "metadata": {
    "id": "Os-Gzv1NatXu"
   },
   "outputs": [],
   "source": [
    "net = fcn(num_classes)"
   ]
  },
  {
   "cell_type": "code",
   "execution_count": 50,
   "metadata": {
    "id": "4O7lD9imayNx"
   },
   "outputs": [],
   "source": [
    "# define loss and optimizer\n",
    "#from mxtorch.trainer import ScheduledOptim\n",
    "#criterion = nn.NLLLoss2d()\n",
    "criterion = nn.NLLLoss()\n",
    "optimizer = torch.optim.SGD(net.parameters(), lr=1e-2, weight_decay=1e-4)"
   ]
  },
  {
   "cell_type": "code",
   "execution_count": 56,
   "metadata": {
    "id": "B-pdAdkhJrJd"
   },
   "outputs": [
    {
     "name": "stdout",
     "output_type": "stream",
     "text": [
      "Epoch: 0, Train Loss: 0.11404, Train Acc: 0.95321, Train Mean IU: 0.75240, Valid Loss: 0.12901, Valid Acc: 0.94800, Valid Mean IU: 0.74715 \n",
      "1620767428.2886357\n",
      "1620767434.8975463\n",
      "Epoch: 1, Train Loss: 0.10622, Train Acc: 0.95747, Train Mean IU: 0.77097, Valid Loss: 0.12046, Valid Acc: 0.95274, Valid Mean IU: 0.77902 \n",
      "1620767434.897994\n",
      "1620767441.4399934\n",
      "Epoch: 2, Train Loss: 0.10042, Train Acc: 0.95992, Train Mean IU: 0.78652, Valid Loss: 0.11625, Valid Acc: 0.95369, Valid Mean IU: 0.77495 \n",
      "1620767441.4403079\n",
      "1620767448.0090046\n",
      "Epoch: 3, Train Loss: 0.09783, Train Acc: 0.96029, Train Mean IU: 0.78957, Valid Loss: 0.11279, Valid Acc: 0.95478, Valid Mean IU: 0.77498 \n",
      "1620767448.0094078\n",
      "1620767454.5635855\n",
      "Epoch: 4, Train Loss: 0.09196, Train Acc: 0.96402, Train Mean IU: 0.80231, Valid Loss: 0.11221, Valid Acc: 0.95459, Valid Mean IU: 0.80832 \n",
      "1620767454.5643132\n",
      "1620767461.1109016\n",
      "Epoch: 5, Train Loss: 0.08751, Train Acc: 0.96562, Train Mean IU: 0.81690, Valid Loss: 0.10337, Valid Acc: 0.95900, Valid Mean IU: 0.79919 \n",
      "1620767461.1115959\n",
      "1620767467.7837768\n",
      "Epoch: 6, Train Loss: 0.08502, Train Acc: 0.96635, Train Mean IU: 0.82014, Valid Loss: 0.09909, Valid Acc: 0.96056, Valid Mean IU: 0.81002 \n",
      "1620767467.7840734\n",
      "1620767474.3980315\n",
      "Epoch: 7, Train Loss: 0.08185, Train Acc: 0.96784, Train Mean IU: 0.82608, Valid Loss: 0.09595, Valid Acc: 0.96200, Valid Mean IU: 0.81650 \n",
      "1620767474.398681\n",
      "1620767481.6817296\n",
      "Epoch: 8, Train Loss: 0.08002, Train Acc: 0.96818, Train Mean IU: 0.82737, Valid Loss: 0.09317, Valid Acc: 0.96298, Valid Mean IU: 0.82361 \n",
      "1620767481.6824865\n",
      "1620767488.7840831\n",
      "Epoch: 9, Train Loss: 0.07651, Train Acc: 0.97002, Train Mean IU: 0.83650, Valid Loss: 0.09166, Valid Acc: 0.96353, Valid Mean IU: 0.82136 \n",
      "1620767488.7845962\n",
      "1620767495.87245\n",
      "Epoch: 10, Train Loss: 0.07487, Train Acc: 0.97066, Train Mean IU: 0.84014, Valid Loss: 0.08955, Valid Acc: 0.96426, Valid Mean IU: 0.83221 \n",
      "1620767495.8733456\n",
      "1620767502.871191\n",
      "Epoch: 11, Train Loss: 0.07258, Train Acc: 0.97149, Train Mean IU: 0.84518, Valid Loss: 0.08732, Valid Acc: 0.96520, Valid Mean IU: 0.82919 \n",
      "1620767502.871559\n",
      "1620767509.9807138\n",
      "Epoch: 12, Train Loss: 0.07090, Train Acc: 0.97209, Train Mean IU: 0.84918, Valid Loss: 0.08624, Valid Acc: 0.96529, Valid Mean IU: 0.82783 \n",
      "1620767509.9814365\n",
      "1620767517.2001777\n",
      "Epoch: 13, Train Loss: 0.07018, Train Acc: 0.97200, Train Mean IU: 0.84951, Valid Loss: 0.08332, Valid Acc: 0.96654, Valid Mean IU: 0.83710 \n",
      "1620767517.2005432\n",
      "1620767523.917757\n",
      "Epoch: 14, Train Loss: 0.06784, Train Acc: 0.97319, Train Mean IU: 0.85421, Valid Loss: 0.08225, Valid Acc: 0.96680, Valid Mean IU: 0.83633 \n",
      "1620767523.9180818\n",
      "1620767530.574128\n",
      "Epoch: 15, Train Loss: 0.06647, Train Acc: 0.97380, Train Mean IU: 0.85656, Valid Loss: 0.08067, Valid Acc: 0.96765, Valid Mean IU: 0.84270 \n",
      "1620767530.5748293\n",
      "1620767537.1536202\n",
      "Epoch: 16, Train Loss: 0.06520, Train Acc: 0.97432, Train Mean IU: 0.85994, Valid Loss: 0.07931, Valid Acc: 0.96813, Valid Mean IU: 0.84287 \n",
      "1620767537.1539364\n",
      "1620767543.658219\n",
      "Epoch: 17, Train Loss: 0.06375, Train Acc: 0.97485, Train Mean IU: 0.86288, Valid Loss: 0.07913, Valid Acc: 0.96813, Valid Mean IU: 0.84105 \n",
      "1620767543.6586444\n",
      "1620767550.2234268\n",
      "Epoch: 18, Train Loss: 0.06365, Train Acc: 0.97484, Train Mean IU: 0.86411, Valid Loss: 0.07652, Valid Acc: 0.96914, Valid Mean IU: 0.85120 \n",
      "1620767550.2237914\n",
      "1620767556.771053\n",
      "Epoch: 19, Train Loss: 0.06201, Train Acc: 0.97561, Train Mean IU: 0.86690, Valid Loss: 0.07545, Valid Acc: 0.96952, Valid Mean IU: 0.85050 \n",
      "1620767556.7713878\n",
      "1620767563.35689\n",
      "Epoch: 20, Train Loss: 0.06091, Train Acc: 0.97585, Train Mean IU: 0.86815, Valid Loss: 0.07445, Valid Acc: 0.96989, Valid Mean IU: 0.85197 \n",
      "1620767563.3572083\n",
      "1620767569.9495752\n",
      "Epoch: 21, Train Loss: 0.06014, Train Acc: 0.97615, Train Mean IU: 0.87025, Valid Loss: 0.07496, Valid Acc: 0.96957, Valid Mean IU: 0.84610 \n",
      "1620767569.9502776\n",
      "1620767576.643708\n",
      "Epoch: 22, Train Loss: 0.05913, Train Acc: 0.97660, Train Mean IU: 0.87215, Valid Loss: 0.07313, Valid Acc: 0.97032, Valid Mean IU: 0.85157 \n",
      "1620767576.6440256\n",
      "1620767583.2535384\n",
      "Epoch: 23, Train Loss: 0.05833, Train Acc: 0.97674, Train Mean IU: 0.87311, Valid Loss: 0.07251, Valid Acc: 0.97044, Valid Mean IU: 0.85252 \n",
      "1620767583.2538402\n",
      "1620767589.8403182\n",
      "Epoch: 24, Train Loss: 0.05759, Train Acc: 0.97734, Train Mean IU: 0.87584, Valid Loss: 0.07105, Valid Acc: 0.97114, Valid Mean IU: 0.85757 \n",
      "1620767589.8406246\n",
      "1620767596.3959126\n",
      "Epoch: 25, Train Loss: 0.05674, Train Acc: 0.97741, Train Mean IU: 0.87632, Valid Loss: 0.07008, Valid Acc: 0.97134, Valid Mean IU: 0.85724 \n",
      "1620767596.3963487\n",
      "1620767602.9330258\n",
      "Epoch: 26, Train Loss: 0.05558, Train Acc: 0.97776, Train Mean IU: 0.87725, Valid Loss: 0.06894, Valid Acc: 0.97185, Valid Mean IU: 0.85961 \n",
      "1620767602.933384\n",
      "1620767609.4822361\n",
      "Epoch: 27, Train Loss: 0.05516, Train Acc: 0.97819, Train Mean IU: 0.87967, Valid Loss: 0.06840, Valid Acc: 0.97210, Valid Mean IU: 0.86143 \n",
      "1620767609.482544\n",
      "1620767616.0420003\n",
      "Epoch: 28, Train Loss: 0.05456, Train Acc: 0.97834, Train Mean IU: 0.88053, Valid Loss: 0.06803, Valid Acc: 0.97210, Valid Mean IU: 0.86069 \n",
      "1620767616.04271\n",
      "1620767622.63183\n",
      "Epoch: 29, Train Loss: 0.05386, Train Acc: 0.97849, Train Mean IU: 0.88161, Valid Loss: 0.06684, Valid Acc: 0.97282, Valid Mean IU: 0.86694 \n",
      "1620767622.6321392\n",
      "1620767629.1385465\n",
      "Epoch: 30, Train Loss: 0.05323, Train Acc: 0.97865, Train Mean IU: 0.88271, Valid Loss: 0.06673, Valid Acc: 0.97251, Valid Mean IU: 0.86189 \n",
      "1620767629.138849\n",
      "1620767635.6356964\n",
      "Epoch: 31, Train Loss: 0.05237, Train Acc: 0.97904, Train Mean IU: 0.88396, Valid Loss: 0.06638, Valid Acc: 0.97271, Valid Mean IU: 0.86269 \n",
      "1620767635.636014\n",
      "1620767642.192872\n",
      "Epoch: 32, Train Loss: 0.05183, Train Acc: 0.97948, Train Mean IU: 0.88608, Valid Loss: 0.06568, Valid Acc: 0.97307, Valid Mean IU: 0.86424 \n",
      "1620767642.1932447\n",
      "1620767648.8618052\n",
      "Epoch: 33, Train Loss: 0.05171, Train Acc: 0.97921, Train Mean IU: 0.88533, Valid Loss: 0.06477, Valid Acc: 0.97345, Valid Mean IU: 0.86739 \n",
      "1620767648.8622396\n",
      "1620767655.4522808\n",
      "Epoch: 34, Train Loss: 0.05129, Train Acc: 0.97955, Train Mean IU: 0.88694, Valid Loss: 0.06370, Valid Acc: 0.97395, Valid Mean IU: 0.87063 \n",
      "1620767655.4526732\n",
      "1620767661.9984164\n",
      "Epoch: 35, Train Loss: 0.05048, Train Acc: 0.97974, Train Mean IU: 0.88792, Valid Loss: 0.06407, Valid Acc: 0.97359, Valid Mean IU: 0.86655 \n",
      "1620767661.9987397\n",
      "1620767668.5555973\n",
      "Epoch: 36, Train Loss: 0.05009, Train Acc: 0.97988, Train Mean IU: 0.88878, Valid Loss: 0.06292, Valid Acc: 0.97426, Valid Mean IU: 0.87222 \n",
      "1620767668.5559077\n",
      "1620767675.127701\n",
      "Epoch: 37, Train Loss: 0.04956, Train Acc: 0.98016, Train Mean IU: 0.88926, Valid Loss: 0.06228, Valid Acc: 0.97455, Valid Mean IU: 0.87333 \n",
      "1620767675.1280107\n",
      "1620767681.7208228\n",
      "Epoch: 38, Train Loss: 0.04925, Train Acc: 0.98007, Train Mean IU: 0.88930, Valid Loss: 0.06349, Valid Acc: 0.97364, Valid Mean IU: 0.86612 \n",
      "1620767681.7211492\n",
      "1620767688.2813492\n",
      "Epoch: 39, Train Loss: 0.04839, Train Acc: 0.98061, Train Mean IU: 0.89123, Valid Loss: 0.06153, Valid Acc: 0.97470, Valid Mean IU: 0.87299 \n",
      "1620767688.2816622\n",
      "1620767694.8464296\n",
      "Epoch: 40, Train Loss: 0.04862, Train Acc: 0.98051, Train Mean IU: 0.89210, Valid Loss: 0.06145, Valid Acc: 0.97457, Valid Mean IU: 0.87143 \n",
      "1620767694.847164\n",
      "1620767701.397811\n",
      "Epoch: 41, Train Loss: 0.04772, Train Acc: 0.98078, Train Mean IU: 0.89309, Valid Loss: 0.06044, Valid Acc: 0.97518, Valid Mean IU: 0.87580 \n",
      "1620767701.3982904\n",
      "1620767707.9666166\n",
      "Epoch: 42, Train Loss: 0.04775, Train Acc: 0.98081, Train Mean IU: 0.89290, Valid Loss: 0.05987, Valid Acc: 0.97538, Valid Mean IU: 0.87700 \n",
      "1620767707.9670143\n",
      "1620767714.5426948\n",
      "Epoch: 43, Train Loss: 0.04724, Train Acc: 0.98102, Train Mean IU: 0.89424, Valid Loss: 0.05966, Valid Acc: 0.97543, Valid Mean IU: 0.87642 \n",
      "1620767714.543411\n",
      "1620767721.086477\n",
      "Epoch: 44, Train Loss: 0.04651, Train Acc: 0.98123, Train Mean IU: 0.89519, Valid Loss: 0.05928, Valid Acc: 0.97551, Valid Mean IU: 0.87611 \n",
      "1620767721.08677\n",
      "1620767727.5998864\n",
      "Epoch: 45, Train Loss: 0.04660, Train Acc: 0.98137, Train Mean IU: 0.89572, Valid Loss: 0.05937, Valid Acc: 0.97570, Valid Mean IU: 0.88210 \n",
      "1620767727.6005764\n",
      "1620767734.1620848\n",
      "Epoch: 46, Train Loss: 0.04602, Train Acc: 0.98135, Train Mean IU: 0.89544, Valid Loss: 0.05796, Valid Acc: 0.97605, Valid Mean IU: 0.88101 \n",
      "1620767734.1624093\n",
      "1620767740.7285752\n",
      "Epoch: 47, Train Loss: 0.04630, Train Acc: 0.98143, Train Mean IU: 0.89633, Valid Loss: 0.05778, Valid Acc: 0.97628, Valid Mean IU: 0.88125 \n",
      "1620767740.7289045\n",
      "1620767747.3110392\n",
      "Epoch: 48, Train Loss: 0.04590, Train Acc: 0.98134, Train Mean IU: 0.89500, Valid Loss: 0.05740, Valid Acc: 0.97634, Valid Mean IU: 0.88167 \n",
      "1620767747.3113792\n",
      "1620767754.0058737\n",
      "Epoch: 49, Train Loss: 0.04457, Train Acc: 0.98197, Train Mean IU: 0.89904, Valid Loss: 0.05697, Valid Acc: 0.97650, Valid Mean IU: 0.88264 \n",
      "1620767754.0063653\n",
      "1620767760.6258264\n",
      "Epoch: 50, Train Loss: 0.04442, Train Acc: 0.98201, Train Mean IU: 0.89918, Valid Loss: 0.05724, Valid Acc: 0.97627, Valid Mean IU: 0.88024 \n",
      "1620767760.6266816\n",
      "1620767767.2094934\n",
      "Epoch: 51, Train Loss: 0.04421, Train Acc: 0.98192, Train Mean IU: 0.89857, Valid Loss: 0.05681, Valid Acc: 0.97640, Valid Mean IU: 0.88097 \n",
      "1620767767.2097995\n",
      "1620767773.7925603\n",
      "Epoch: 52, Train Loss: 0.04393, Train Acc: 0.98214, Train Mean IU: 0.89919, Valid Loss: 0.05634, Valid Acc: 0.97668, Valid Mean IU: 0.88248 \n",
      "1620767773.792872\n",
      "1620767780.3544228\n",
      "Epoch: 53, Train Loss: 0.04373, Train Acc: 0.98221, Train Mean IU: 0.90004, Valid Loss: 0.05615, Valid Acc: 0.97657, Valid Mean IU: 0.88210 \n",
      "1620767780.3547463\n",
      "1620767786.9054573\n",
      "Epoch: 54, Train Loss: 0.04319, Train Acc: 0.98253, Train Mean IU: 0.90133, Valid Loss: 0.05609, Valid Acc: 0.97663, Valid Mean IU: 0.88174 \n",
      "1620767786.9057736\n",
      "1620767793.488989\n",
      "Epoch: 55, Train Loss: 0.04319, Train Acc: 0.98252, Train Mean IU: 0.90135, Valid Loss: 0.05538, Valid Acc: 0.97707, Valid Mean IU: 0.88448 \n",
      "1620767793.4897134\n",
      "1620767800.141426\n",
      "Epoch: 56, Train Loss: 0.04289, Train Acc: 0.98269, Train Mean IU: 0.90237, Valid Loss: 0.05517, Valid Acc: 0.97713, Valid Mean IU: 0.88465 \n",
      "1620767800.141744\n",
      "1620767806.7215385\n",
      "Epoch: 57, Train Loss: 0.04245, Train Acc: 0.98276, Train Mean IU: 0.90264, Valid Loss: 0.05488, Valid Acc: 0.97721, Valid Mean IU: 0.88570 \n",
      "1620767806.7219675\n",
      "1620767813.276596\n",
      "Epoch: 58, Train Loss: 0.04234, Train Acc: 0.98278, Train Mean IU: 0.90268, Valid Loss: 0.05456, Valid Acc: 0.97741, Valid Mean IU: 0.88663 \n",
      "1620767813.2769644\n",
      "1620767819.7839847\n",
      "Epoch: 59, Train Loss: 0.04191, Train Acc: 0.98292, Train Mean IU: 0.90376, Valid Loss: 0.05620, Valid Acc: 0.97632, Valid Mean IU: 0.87912 \n",
      "1620767819.7843256\n",
      "1620767826.4407475\n",
      "Epoch: 60, Train Loss: 0.04173, Train Acc: 0.98289, Train Mean IU: 0.90300, Valid Loss: 0.05417, Valid Acc: 0.97744, Valid Mean IU: 0.88683 \n",
      "1620767826.441043\n",
      "1620767833.0344393\n",
      "Epoch: 61, Train Loss: 0.04173, Train Acc: 0.98314, Train Mean IU: 0.90434, Valid Loss: 0.05375, Valid Acc: 0.97776, Valid Mean IU: 0.88863 \n",
      "1620767833.0347507\n",
      "1620767839.6224506\n",
      "Epoch: 62, Train Loss: 0.04193, Train Acc: 0.98301, Train Mean IU: 0.90432, Valid Loss: 0.05385, Valid Acc: 0.97767, Valid Mean IU: 0.88686 \n",
      "1620767839.6227524\n",
      "1620767846.2169468\n",
      "Epoch: 63, Train Loss: 0.04125, Train Acc: 0.98324, Train Mean IU: 0.90474, Valid Loss: 0.05350, Valid Acc: 0.97785, Valid Mean IU: 0.88919 \n",
      "1620767846.2176566\n",
      "1620767852.8170695\n",
      "Epoch: 64, Train Loss: 0.04095, Train Acc: 0.98337, Train Mean IU: 0.90605, Valid Loss: 0.05319, Valid Acc: 0.97790, Valid Mean IU: 0.88896 \n",
      "1620767852.8177574\n",
      "1620767859.4192457\n",
      "Epoch: 65, Train Loss: 0.04050, Train Acc: 0.98348, Train Mean IU: 0.90691, Valid Loss: 0.05370, Valid Acc: 0.97749, Valid Mean IU: 0.88611 \n",
      "1620767859.4196768\n",
      "1620767866.0633018\n",
      "Epoch: 66, Train Loss: 0.04050, Train Acc: 0.98336, Train Mean IU: 0.90555, Valid Loss: 0.05398, Valid Acc: 0.97733, Valid Mean IU: 0.88413 \n",
      "1620767866.0636659\n",
      "1620767872.646717\n",
      "Epoch: 67, Train Loss: 0.04005, Train Acc: 0.98360, Train Mean IU: 0.90672, Valid Loss: 0.05250, Valid Acc: 0.97813, Valid Mean IU: 0.89068 \n",
      "1620767872.6470256\n",
      "1620767879.1995707\n",
      "Epoch: 68, Train Loss: 0.03977, Train Acc: 0.98365, Train Mean IU: 0.90731, Valid Loss: 0.05236, Valid Acc: 0.97804, Valid Mean IU: 0.88995 \n",
      "1620767879.2002552\n",
      "1620767885.7247076\n",
      "Epoch: 69, Train Loss: 0.04012, Train Acc: 0.98352, Train Mean IU: 0.90717, Valid Loss: 0.05203, Valid Acc: 0.97826, Valid Mean IU: 0.89104 \n",
      "1620767885.72541\n",
      "1620767892.3107402\n",
      "Epoch: 70, Train Loss: 0.03968, Train Acc: 0.98383, Train Mean IU: 0.90839, Valid Loss: 0.05192, Valid Acc: 0.97840, Valid Mean IU: 0.89121 \n",
      "1620767892.3110592\n",
      "1620767898.8213828\n",
      "Epoch: 71, Train Loss: 0.03968, Train Acc: 0.98383, Train Mean IU: 0.90827, Valid Loss: 0.05182, Valid Acc: 0.97849, Valid Mean IU: 0.89197 \n",
      "1620767898.821708\n",
      "1620767905.3175101\n",
      "Epoch: 72, Train Loss: 0.03930, Train Acc: 0.98389, Train Mean IU: 0.90833, Valid Loss: 0.05190, Valid Acc: 0.97834, Valid Mean IU: 0.89027 \n",
      "1620767905.318245\n",
      "1620767911.7888966\n",
      "Epoch: 73, Train Loss: 0.03934, Train Acc: 0.98385, Train Mean IU: 0.90798, Valid Loss: 0.05162, Valid Acc: 0.97840, Valid Mean IU: 0.89066 \n",
      "1620767911.7901769\n",
      "1620767918.2895696\n",
      "Epoch: 74, Train Loss: 0.03917, Train Acc: 0.98413, Train Mean IU: 0.90971, Valid Loss: 0.05136, Valid Acc: 0.97860, Valid Mean IU: 0.89292 \n",
      "1620767918.289936\n",
      "1620767924.801097\n",
      "Epoch: 75, Train Loss: 0.03908, Train Acc: 0.98394, Train Mean IU: 0.90922, Valid Loss: 0.05104, Valid Acc: 0.97871, Valid Mean IU: 0.89291 \n",
      "1620767924.801418\n",
      "1620767931.327575\n",
      "Epoch: 76, Train Loss: 0.03850, Train Acc: 0.98424, Train Mean IU: 0.91062, Valid Loss: 0.05084, Valid Acc: 0.97874, Valid Mean IU: 0.89331 \n",
      "1620767931.327888\n",
      "1620767937.9705713\n",
      "Epoch: 77, Train Loss: 0.03837, Train Acc: 0.98431, Train Mean IU: 0.91082, Valid Loss: 0.05069, Valid Acc: 0.97884, Valid Mean IU: 0.89428 \n",
      "1620767937.9708672\n",
      "1620767944.4964478\n",
      "Epoch: 78, Train Loss: 0.03825, Train Acc: 0.98431, Train Mean IU: 0.91093, Valid Loss: 0.05045, Valid Acc: 0.97884, Valid Mean IU: 0.89406 \n",
      "1620767944.4967632\n",
      "1620767951.0521736\n",
      "Epoch: 79, Train Loss: 0.03831, Train Acc: 0.98423, Train Mean IU: 0.91070, Valid Loss: 0.05059, Valid Acc: 0.97871, Valid Mean IU: 0.89272 \n",
      "1620767951.0524905\n",
      "1620767957.6495197\n",
      "Epoch: 80, Train Loss: 0.03789, Train Acc: 0.98440, Train Mean IU: 0.91106, Valid Loss: 0.05065, Valid Acc: 0.97872, Valid Mean IU: 0.89203 \n",
      "1620767957.6502538\n",
      "1620767964.1995292\n",
      "Epoch: 81, Train Loss: 0.03785, Train Acc: 0.98449, Train Mean IU: 0.91104, Valid Loss: 0.05006, Valid Acc: 0.97900, Valid Mean IU: 0.89413 \n",
      "1620767964.1999645\n",
      "1620767970.7501724\n",
      "Epoch: 82, Train Loss: 0.03751, Train Acc: 0.98457, Train Mean IU: 0.91216, Valid Loss: 0.05019, Valid Acc: 0.97900, Valid Mean IU: 0.89357 \n",
      "1620767970.750535\n",
      "1620767977.3183172\n",
      "Epoch: 83, Train Loss: 0.03734, Train Acc: 0.98457, Train Mean IU: 0.91203, Valid Loss: 0.04986, Valid Acc: 0.97901, Valid Mean IU: 0.89407 \n",
      "1620767977.3190088\n",
      "1620767984.0882497\n",
      "Epoch: 84, Train Loss: 0.03739, Train Acc: 0.98475, Train Mean IU: 0.91308, Valid Loss: 0.04958, Valid Acc: 0.97932, Valid Mean IU: 0.89649 \n",
      "1620767984.0885646\n",
      "1620767990.587259\n",
      "Epoch: 85, Train Loss: 0.03712, Train Acc: 0.98483, Train Mean IU: 0.91317, Valid Loss: 0.04965, Valid Acc: 0.97913, Valid Mean IU: 0.89447 \n",
      "1620767990.5879483\n",
      "1620767997.0639124\n",
      "Epoch: 86, Train Loss: 0.03726, Train Acc: 0.98484, Train Mean IU: 0.91371, Valid Loss: 0.04935, Valid Acc: 0.97938, Valid Mean IU: 0.89734 \n",
      "1620767997.0642173\n",
      "1620768003.691804\n",
      "Epoch: 87, Train Loss: 0.03722, Train Acc: 0.98465, Train Mean IU: 0.91322, Valid Loss: 0.04926, Valid Acc: 0.97931, Valid Mean IU: 0.89510 \n",
      "1620768003.6925306\n",
      "1620768010.3160596\n",
      "Epoch: 88, Train Loss: 0.03639, Train Acc: 0.98505, Train Mean IU: 0.91444, Valid Loss: 0.04895, Valid Acc: 0.97942, Valid Mean IU: 0.89648 \n",
      "1620768010.3163826\n",
      "1620768016.854501\n",
      "Epoch: 89, Train Loss: 0.03661, Train Acc: 0.98506, Train Mean IU: 0.91453, Valid Loss: 0.04903, Valid Acc: 0.97936, Valid Mean IU: 0.89579 \n",
      "1620768016.854923\n",
      "1620768023.3746245\n",
      "Epoch: 90, Train Loss: 0.03618, Train Acc: 0.98514, Train Mean IU: 0.91455, Valid Loss: 0.04889, Valid Acc: 0.97939, Valid Mean IU: 0.89620 \n",
      "1620768023.374989\n",
      "1620768029.8810017\n",
      "Epoch: 91, Train Loss: 0.03612, Train Acc: 0.98506, Train Mean IU: 0.91438, Valid Loss: 0.04858, Valid Acc: 0.97951, Valid Mean IU: 0.89695 \n",
      "1620768029.8813162\n",
      "1620768036.3688745\n",
      "Epoch: 92, Train Loss: 0.03578, Train Acc: 0.98535, Train Mean IU: 0.91618, Valid Loss: 0.04823, Valid Acc: 0.97974, Valid Mean IU: 0.89852 \n",
      "1620768036.3691924\n",
      "1620768042.8863432\n",
      "Epoch: 93, Train Loss: 0.03591, Train Acc: 0.98530, Train Mean IU: 0.91584, Valid Loss: 0.04857, Valid Acc: 0.97950, Valid Mean IU: 0.89616 \n",
      "1620768042.8866398\n",
      "1620768049.4065466\n",
      "Epoch: 94, Train Loss: 0.03627, Train Acc: 0.98495, Train Mean IU: 0.91421, Valid Loss: 0.04848, Valid Acc: 0.97955, Valid Mean IU: 0.89650 \n",
      "1620768049.4068458\n",
      "1620768055.8956137\n",
      "Epoch: 95, Train Loss: 0.03587, Train Acc: 0.98527, Train Mean IU: 0.91571, Valid Loss: 0.04821, Valid Acc: 0.97977, Valid Mean IU: 0.89806 \n",
      "1620768055.895926\n",
      "1620768062.400427\n",
      "Epoch: 96, Train Loss: 0.03547, Train Acc: 0.98542, Train Mean IU: 0.91645, Valid Loss: 0.04792, Valid Acc: 0.97980, Valid Mean IU: 0.89850 \n",
      "1620768062.4007397\n",
      "1620768068.9474657\n",
      "Epoch: 97, Train Loss: 0.03560, Train Acc: 0.98537, Train Mean IU: 0.91604, Valid Loss: 0.04807, Valid Acc: 0.97972, Valid Mean IU: 0.89770 \n",
      "1620768068.9487388\n",
      "1620768075.4756048\n",
      "Epoch: 98, Train Loss: 0.03521, Train Acc: 0.98549, Train Mean IU: 0.91673, Valid Loss: 0.04773, Valid Acc: 0.97992, Valid Mean IU: 0.89954 \n",
      "1620768075.4759727\n",
      "1620768081.9694803\n",
      "Epoch: 99, Train Loss: 0.03513, Train Acc: 0.98549, Train Mean IU: 0.91666, Valid Loss: 0.04768, Valid Acc: 0.97980, Valid Mean IU: 0.89871 \n",
      "1620768081.969784\n",
      "1620768088.407702\n"
     ]
    }
   ],
   "source": [
    "import time #train the model\n",
    "import torch.nn.functional as F\n",
    "for e in range(100):\n",
    "    \n",
    "    train_loss = 0\n",
    "    train_acc = 0\n",
    "    train_acc_cls = 0\n",
    "    train_mean_iu = 0\n",
    "    train_fwavacc = 0\n",
    "    \n",
    "    prev_time = time.time()\n",
    "    net = net.train()\n",
    "    net=net.cuda()\n",
    "    for data in train_data:\n",
    "        with torch.no_grad():\n",
    "          im = Variable(data[0].cuda())\n",
    "          label = Variable(data[1].cuda())\n",
    "          #print(label.shape)\n",
    "        # forward\n",
    "        out = net(im) #torch.Size([32, 21, 320, 480])\n",
    "        #print(\"out.shape1:\",out.shape) \n",
    "        out = F.log_softmax(out, dim=1) # (b, n, h, w)\n",
    "        #print(\"print(out.shape2:\",out.shape) \n",
    "        loss = criterion(out, label)\n",
    "        # backward\n",
    "        optimizer.zero_grad()\n",
    "        loss.backward()\n",
    "        optimizer.step()\n",
    "        train_loss += loss.data\n",
    "        \n",
    "        label_pred = out.max(dim=1)[1].data.cpu().numpy()\n",
    "        #print(\"label_pred.shape:\",label_pred.shape) \n",
    "        label_true = label.data.cpu().numpy()\n",
    "        #print(\"label_true.shape:\",label_true.shape) \n",
    "        for lbt, lbp in zip(label_true, label_pred):\n",
    "            acc, acc_cls, mean_iu, fwavacc = label_accuracy_score(lbt, lbp, num_classes)\n",
    "            train_acc += acc\n",
    "            train_acc_cls += acc_cls\n",
    "            train_mean_iu += mean_iu\n",
    "            train_fwavacc += fwavacc\n",
    "        \n",
    "    net = net.eval()\n",
    "    eval_loss = 0\n",
    "    eval_acc = 0\n",
    "    eval_acc_cls = 0\n",
    "    eval_mean_iu = 0\n",
    "    eval_fwavacc = 0\n",
    "    for data in valid_data:\n",
    "        with torch.no_grad():\n",
    "          im = Variable(data[0].cuda())\n",
    "          label = Variable(data[1].cuda())\n",
    "        # forward\n",
    "        out = net(im)\n",
    "        out = F.log_softmax(out, dim=1)\n",
    "        loss = criterion(out, label)\n",
    "        eval_loss += loss.data\n",
    "        \n",
    "        label_pred = out.max(dim=1)[1].data.cpu().numpy()\n",
    "        label_true = label.data.cpu().numpy()\n",
    "        for lbt, lbp in zip(label_true, label_pred):\n",
    "            acc, acc_cls, mean_iu, fwavacc = label_accuracy_score(lbt, lbp, num_classes)\n",
    "            eval_acc += acc\n",
    "            eval_acc_cls += acc_cls\n",
    "            eval_mean_iu += mean_iu\n",
    "            eval_fwavacc += fwavacc\n",
    "        \n",
    "    cur_time = time.time()\n",
    "\n",
    "    epoch_str = ('Epoch: {}, Train Loss: {:.5f}, Train Acc: {:.5f}, Train Mean IU: {:.5f}, \\\n",
    "Valid Loss: {:.5f}, Valid Acc: {:.5f}, Valid Mean IU: {:.5f} '.format(\n",
    "        e, train_loss / len(train_data), train_acc / len(voc_train), train_mean_iu / len(voc_train),\n",
    "        eval_loss / len(valid_data), eval_acc / len(voc_test), eval_mean_iu / len(voc_test)))\n",
    "   \n",
    "    print(epoch_str)\n",
    "    print(prev_time)\n",
    "    print(cur_time)"
   ]
  },
  {
   "cell_type": "code",
   "execution_count": 57,
   "metadata": {
    "id": "xZC5jipOOsK4"
   },
   "outputs": [],
   "source": [
    "torch.save(net.state_dict(),'fcn_resnet34.pth')"
   ]
  },
  {
   "cell_type": "code",
   "execution_count": 58,
   "metadata": {
    "id": "220jEYFbOx0H"
   },
   "outputs": [],
   "source": [
    "net.load_state_dict(torch.load('fcn_resnet34.pth'))\n",
    "net=net.cuda()"
   ]
  },
  {
   "cell_type": "code",
   "execution_count": 59,
   "metadata": {
    "id": "uW513H1vO2-x"
   },
   "outputs": [
    {
     "data": {
      "image/png": "[encoded data removed]",
      "text/plain": [
       "<Figure size 288x360 with 15 Axes>"
      ]
     },
     "metadata": {
      "needs_background": "light"
     },
     "output_type": "display_data"
    }
   ],
   "source": [
    "# define prediction function\n",
    "cm = np.array(colormap).astype('uint8')\n",
    "\n",
    "def predict(im, label): # prediction result\n",
    "    im = Variable(im.unsqueeze(0)).cuda()\n",
    "    out = net(im)\n",
    "    pred = out.max(1)[1].squeeze().cpu().data.numpy()#return the index of each column's maximum element\n",
    "    pred = cm[pred]\n",
    "    return pred, cm[label]\n",
    "\n",
    "#plt figures from any order by changing a,b\n",
    "_, figs = plt.subplots(5, 3, figsize=(4, 5))  #6=b-a\n",
    "\n",
    "for i in range(10,15):#(a,b)\n",
    "    test_data, test_label = voc_test[i]\n",
    "    pred, label = predict(test_data, test_label)\n",
    "    figs[i-10, 0].imshow(Image.open(voc_test.data_list[i]))#10=a\n",
    "    i=i-10 #10=a\n",
    "    figs[i, 0].axes.get_xaxis().set_visible(False)\n",
    "    figs[i, 0].axes.get_yaxis().set_visible(False)\n",
    "    figs[i, 1].imshow(label)\n",
    "    figs[i, 1].axes.get_xaxis().set_visible(False)\n",
    "    figs[i, 1].axes.get_yaxis().set_visible(False)\n",
    "    figs[i, 2].imshow(pred)\n",
    "    figs[i, 2].axes.get_xaxis().set_visible(False)\n",
    "    figs[i, 2].axes.get_yaxis().set_visible(False)\n",
    "plt.savefig('1.png')"
   ]
  },
  {
   "cell_type": "code",
   "execution_count": 60,
   "metadata": {},
   "outputs": [
    {
     "name": "stdout",
     "output_type": "stream",
     "text": [
      "54\n",
      "image 0/54 cost (0:00:00.017564)seconds\n",
      "image 1/54 cost (0:00:00.011734)seconds\n",
      "image 2/54 cost (0:00:00.011152)seconds\n",
      "image 3/54 cost (0:00:00.011513)seconds\n",
      "image 4/54 cost (0:00:00.015208)seconds\n",
      "image 5/54 cost (0:00:00.012506)seconds\n",
      "image 6/54 cost (0:00:00.011489)seconds\n",
      "image 7/54 cost (0:00:00.011479)seconds\n",
      "image 8/54 cost (0:00:00.012914)seconds\n",
      "image 9/54 cost (0:00:00.011441)seconds\n",
      "image 10/54 cost (0:00:00.011458)seconds\n",
      "image 11/54 cost (0:00:00.010873)seconds\n",
      "image 12/54 cost (0:00:00.011730)seconds\n",
      "image 13/54 cost (0:00:00.015257)seconds\n",
      "image 14/54 cost (0:00:00.013722)seconds\n",
      "image 15/54 cost (0:00:00.011880)seconds\n",
      "image 16/54 cost (0:00:00.011005)seconds\n",
      "image 17/54 cost (0:00:00.013230)seconds\n",
      "image 18/54 cost (0:00:00.014169)seconds\n",
      "image 19/54 cost (0:00:00.011864)seconds\n",
      "image 20/54 cost (0:00:00.014506)seconds\n",
      "image 21/54 cost (0:00:00.011702)seconds\n",
      "image 22/54 cost (0:00:00.010818)seconds\n",
      "image 23/54 cost (0:00:00.014695)seconds\n",
      "image 24/54 cost (0:00:00.014567)seconds\n",
      "image 25/54 cost (0:00:00.011104)seconds\n",
      "image 26/54 cost (0:00:00.012077)seconds\n",
      "image 27/54 cost (0:00:00.011856)seconds\n",
      "image 28/54 cost (0:00:00.014599)seconds\n",
      "image 29/54 cost (0:00:00.011868)seconds\n",
      "image 30/54 cost (0:00:00.014024)seconds\n",
      "image 31/54 cost (0:00:00.013881)seconds\n",
      "image 32/54 cost (0:00:00.010598)seconds\n",
      "image 33/54 cost (0:00:00.011288)seconds\n",
      "image 34/54 cost (0:00:00.009992)seconds\n",
      "image 35/54 cost (0:00:00.011605)seconds\n",
      "image 36/54 cost (0:00:00.011703)seconds\n",
      "image 37/54 cost (0:00:00.013764)seconds\n",
      "image 38/54 cost (0:00:00.011290)seconds\n",
      "image 39/54 cost (0:00:00.015056)seconds\n",
      "image 40/54 cost (0:00:00.013317)seconds\n",
      "image 41/54 cost (0:00:00.013834)seconds\n",
      "image 42/54 cost (0:00:00.011871)seconds\n",
      "image 43/54 cost (0:00:00.014618)seconds\n",
      "image 44/54 cost (0:00:00.011689)seconds\n",
      "image 45/54 cost (0:00:00.013771)seconds\n",
      "image 46/54 cost (0:00:00.011028)seconds\n",
      "image 47/54 cost (0:00:00.017660)seconds\n",
      "image 48/54 cost (0:00:00.013830)seconds\n",
      "image 49/54 cost (0:00:00.013590)seconds\n",
      "image 50/54 cost (0:00:00.011527)seconds\n",
      "image 51/54 cost (0:00:00.014446)seconds\n",
      "image 52/54 cost (0:00:00.010952)seconds\n",
      "image 53/54 cost (0:00:00.010740)seconds\n"
     ]
    }
   ],
   "source": [
    "maxnum = len(voc_test)\n",
    "print(maxnum)\n",
    "for i in range(maxnum):\n",
    "    test_data, test_label = voc_test[i]\n",
    "    starttime = datetime.now()\n",
    "    pred, label = predict(test_data, test_label)\n",
    "    endtime = datetime.now()\n",
    "    print('image %s/54 cost (%s)seconds' % (i,(endtime - starttime) ))#print processing time on each image from dataset\n",
    "    im=Image.fromarray(label)\n",
    "    im.save('label/label_%s.png' % (i))\n",
    "    im=Image.fromarray(pred)\n",
    "    im.save('pre/pre_%s.png' % (i)) #save the predicted label to pre folder. create new folder to save prediction from new paramters"
   ]
  },
  {
   "cell_type": "code",
   "execution_count": null,
   "metadata": {},
   "outputs": [],
   "source": []
  },
  {
   "cell_type": "code",
   "execution_count": null,
   "metadata": {},
   "outputs": [],
   "source": []
  },
  {
   "cell_type": "code",
   "execution_count": null,
   "metadata": {},
   "outputs": [],
   "source": []
  }
 ],
 "metadata": {
  "accelerator": "GPU",
  "colab": {
   "collapsed_sections": [],
   "name": "FCN.ipynb",
   "provenance": []
  },
  "kernelspec": {
   "display_name": "Python 3",
   "language": "python",
   "name": "python3"
  },
  "language_info": {
   "codemirror_mode": {
    "name": "ipython",
    "version": 3
   },
   "file_extension": ".py",
   "mimetype": "text/x-python",
   "name": "python",
   "nbconvert_exporter": "python",
   "pygments_lexer": "ipython3",
   "version": "3.7.6"
  }
 },
 "nbformat": 4,
 "nbformat_minor": 4
}
